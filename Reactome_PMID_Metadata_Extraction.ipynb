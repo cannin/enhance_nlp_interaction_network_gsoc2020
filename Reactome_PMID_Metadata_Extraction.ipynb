{
 "cells": [
  {
   "cell_type": "markdown",
   "metadata": {},
   "source": [
    "# Reactome PMID Metadata Extraction\n",
    "\n",
    "### Purpose\n",
    "PMIDs fetched from Reactome are processed to get Metadata and MeSH terms, output by default goes to `reactome_pmid_metadata.tsv` file. \n",
    "\n",
    "### How to Run\n",
    "Enter MTI credentials in cell tagged \"parameters\"  \n",
    "All code cells needs to be run sequentially"
   ]
  },
  {
   "cell_type": "markdown",
   "metadata": {},
   "source": [
    "### Set Parameters"
   ]
  },
  {
   "cell_type": "code",
   "execution_count": null,
   "metadata": {
    "tags": [
     "parameters"
    ]
   },
   "outputs": [],
   "source": [
    "# Register at https://utslogin.nlm.nih.gov/cas/login\n",
    "mti = {\n",
    "    'email_id' : \"example@example.com\",\n",
    "    'username' : \"username\",\n",
    "    'password' : \"password\"\n",
    "}\n",
    "\n",
    "reactome_pmid_url = \"https://reactome.org/download/current/ReactionPMIDS.txt\"\n",
    "pmid_chunk_limit = 0 # chunk_size is 200\n",
    "pmid_metadata_output_path = \"reactome_pmid_metadata.tsv\""
   ]
  },
  {
   "cell_type": "markdown",
   "metadata": {},
   "source": [
    "### Additional Steps to run in Google Colaboratory for Pyjnius"
   ]
  },
  {
   "cell_type": "markdown",
   "metadata": {},
   "source": [
    "%%capture  \n",
    "!pip install -r ./dependencies/requirements.txt"
   ]
  },
  {
   "cell_type": "markdown",
   "metadata": {},
   "source": [
    "!mkdir -p /usr/lib/jvm/java-1.11.0-openjdk-amd64/jre/lib/amd64/server/  \n",
    "!ln -s /usr/lib/jvm/java-1.11.0-openjdk-amd64/lib/server/libjvm.so /usr/lib/jvm/  java-1.11.0-openjdk-amd64/jre/lib/amd64/server/libjvm.so"
   ]
  },
  {
   "cell_type": "markdown",
   "metadata": {},
   "source": [
    "import os  \n",
    "os.environ[\"JAVA_HOME\"] = \"/usr/lib/jvm/java-11-openjdk-amd64\""
   ]
  },
  {
   "cell_type": "markdown",
   "metadata": {},
   "source": [
    "## Setup"
   ]
  },
  {
   "cell_type": "code",
   "execution_count": 2,
   "metadata": {},
   "outputs": [],
   "source": [
    "import os\n",
    "import csv\n",
    "import requests\n",
    "import logging\n",
    "import indra.literature.pubmed_client as pubmed_parser\n",
    "import xml.etree.ElementTree as ET\n",
    "from tqdm import tqdm"
   ]
  },
  {
   "cell_type": "code",
   "execution_count": null,
   "metadata": {},
   "outputs": [],
   "source": [
    "import jnius_config\n",
    "jnius_config.add_classpath(\"./lib/*\")\n",
    "from jnius import autoclass\n",
    "GenericBatchNew = autoclass(\"GenericBatchNew\")"
   ]
  },
  {
   "cell_type": "markdown",
   "metadata": {},
   "source": [
    "## Driver Function"
   ]
  },
  {
   "cell_type": "code",
   "execution_count": null,
   "metadata": {},
   "outputs": [],
   "source": [
    "source_file_body = requests.get(reactome_pmid_url).text\n",
    "pmid_list = list(set([line.split('\\t')[1] for line in source_file_body.splitlines()]))\n",
    "pmid_chunks = list(pmid_list[pos:pos + 200] for pos in range(0, len(pmid_list), 200))\n",
    "\n",
    "if pmid_chunk_limit>0:\n",
    "    pmid_chunks = pmid_chunks[:pmid_chunk_limit]\n",
    "\n",
    "temp_abstract_file_path = \"tmp_abstract.txt\"\n",
    "batch = GenericBatchNew()\n",
    "with open(pmid_metadata_output_path,\"w\") as output_file:\n",
    "    writer = csv.writer(output_file, delimiter='\\t', quoting=csv.QUOTE_MINIMAL)\n",
    "    writer.writerow([\"PMID\",\"JOURNAL_TITLE\",\"YEAR\",\"PMCID\",\"MESH_TERMS\"])\n",
    "    \n",
    "    for chunk in tqdm(pmid_chunks, ascii=True):\n",
    "\n",
    "        metadata_list = pubmed_parser.get_metadata_for_ids(chunk, get_abstracts=True)\n",
    "\n",
    "        with open(temp_abstract_file_path, \"wb\") as abstract_file:\n",
    "            for pmid in metadata_list:\n",
    "                abstract = metadata_list[pmid].get(\"abstract\",None)\n",
    "                if abstract:\n",
    "                    text = f\"UI  -  {pmid}\\nAB  -  {abstract}\\n\\n\"\n",
    "                    abstract_file.write(text.encode('ascii', 'replace'))\n",
    "                    metadata_list[pmid][\"mesh\"] = []\n",
    "\n",
    "        mti_process_output = batch.processor([\"--email\", mti['email_id'], temp_abstract_file_path], mti['username'], mti['password'])\n",
    "                \n",
    "        for line in mti_process_output.splitlines():\n",
    "            try:\n",
    "                inp  = line.split(\"|\")\n",
    "                mesh_term = inp[1]\n",
    "                pmid = inp[0]\n",
    "                metadata_list[pmid][\"mesh\"].append(mesh_term)\n",
    "            except Exception as err:\n",
    "                logging.error(f\"{err} \\t {line}\")\n",
    "        \n",
    "        for pmid in metadata_list:\n",
    "            metadata = metadata_list[pmid]\n",
    "            writer.writerow([\n",
    "                pmid, \n",
    "                metadata[\"journal_abbrev\"], \n",
    "                metadata[\"publication_date\"].get(\"year\",\"\"),\n",
    "                metadata[\"pmcid\"],\n",
    "                \"|\".join(metadata.get(\"mesh\",[]))\n",
    "            ])\n",
    "\n",
    "os.system(\"rm \" + temp_abstract_file_path)"
   ]
  }
 ],
 "metadata": {
  "celltoolbar": "Tags",
  "kernelspec": {
   "display_name": "Python 3",
   "language": "python",
   "name": "python3"
  },
  "language_info": {
   "codemirror_mode": {
    "name": "ipython",
    "version": 3
   },
   "file_extension": ".py",
   "mimetype": "text/x-python",
   "name": "python",
   "nbconvert_exporter": "python",
   "pygments_lexer": "ipython3",
   "version": "3.7.3"
  }
 },
 "nbformat": 4,
 "nbformat_minor": 4
}
