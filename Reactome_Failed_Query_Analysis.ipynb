{
 "cells": [
  {
   "cell_type": "markdown",
   "metadata": {
    "colab_type": "text",
    "id": "d3k8baTpmlLP"
   },
   "source": [
    "# Retrieve Information for Reactome Failed Searches\n",
    "\n",
    "### Purpose\n",
    "The notebook processes the failed query terms to get the PMIDs where the term was seen.\n",
    "Using these PMIDs MESH terms and article metadata will be extracted and presented in a tab seperatted file.\n",
    "### How to Run\n",
    "Enter MTI credentials in cell tagged \"parameters\"  \n",
    "All code cells needs to be run sequentially\n"
   ]
  },
  {
   "cell_type": "markdown",
   "metadata": {},
   "source": [
    "### Set Parameters"
   ]
  },
  {
   "cell_type": "code",
   "execution_count": null,
   "metadata": {
    "tags": [
     "parameters"
    ]
   },
   "outputs": [],
   "source": [
    "# Register at https://utslogin.nlm.nih.gov/cas/login\n",
    "mti = {\n",
    "    'email_id' : \"example@example.com\",\n",
    "    'username' : \"username\",\n",
    "    'password' : \"password\"\n",
    "}\n",
    "pmid_threshold = 20\n",
    "indra_db_rest_url = \"SET_INDRA_DB_URL\"\n",
    "\n",
    "reactome_failed_terms_link = \"https://gist.githubusercontent.com/PritiShaw/03ce10747835390ec8a755fed9ea813d/raw/cc72cb5479f09b574e03ed22c8d4e3147e09aa0c/Reactome.csv\"\n",
    "failed_query_threshold = None # None indicates no limit\n",
    "failed_query_output_file_path = \"failed_query_analysis_output.tsv\"\n",
    "failed_query_hits_threshold = 10"
   ]
  },
  {
   "cell_type": "markdown",
   "metadata": {},
   "source": [
    "### Additional Steps to run in Google Colaboratory for Pyjnius"
   ]
  },
  {
   "cell_type": "markdown",
   "metadata": {},
   "source": [
    "%%capture  \n",
    "!pip install -r ./dependencies/requirements.txt"
   ]
  },
  {
   "cell_type": "markdown",
   "metadata": {},
   "source": [
    "!mkdir -p /usr/lib/jvm/java-1.11.0-openjdk-amd64/jre/lib/amd64/server/  \n",
    "!ln -s /usr/lib/jvm/java-1.11.0-openjdk-amd64/lib/server/libjvm.so /usr/lib/jvm/java-1.11.0-openjdk-amd64/jre/lib/amd64/server/libjvm.so"
   ]
  },
  {
   "cell_type": "markdown",
   "metadata": {},
   "source": [
    "import os  \n",
    "os.environ[\"JAVA_HOME\"] = \"/usr/lib/jvm/java-11-openjdk-amd64\""
   ]
  },
  {
   "cell_type": "markdown",
   "metadata": {
    "colab_type": "text",
    "id": "GM1o-yjOdnW8"
   },
   "source": [
    "### Setup"
   ]
  },
  {
   "cell_type": "code",
   "execution_count": null,
   "metadata": {
    "colab": {},
    "colab_type": "code",
    "id": "tKc7g8fRbcii"
   },
   "outputs": [],
   "source": [
    "import jnius_config\n",
    "jnius_config.add_classpath(\"./lib/*\")\n",
    "from jnius import autoclass\n",
    "GenericBatchNew = autoclass(\"GenericBatchNew\")\n",
    "\n",
    "import logging\n",
    "logging.basicConfig()\n",
    "logging.getLogger().setLevel(logging.WARNING)"
   ]
  },
  {
   "cell_type": "markdown",
   "metadata": {},
   "source": [
    "### Driver Function"
   ]
  },
  {
   "cell_type": "code",
   "execution_count": null,
   "metadata": {
    "colab": {},
    "colab_type": "code",
    "id": "EBkvP1eJYQG1"
   },
   "outputs": [],
   "source": [
    "import requests\n",
    "import os\n",
    "import datetime\n",
    "from reactome_query_utils.getPMID import getPMID\n",
    "from reactome_query_utils.generateOutput import mergeOutputs\n",
    "from reactome_query_utils.getEUtilsInfo import getEUtilsInfo\n",
    "from reactome_query_utils.getMeSH import getMeSH\n",
    "\n",
    "from tqdm import tqdm\n",
    "\n",
    "os.environ[\"INDRA_DB_REST_URL\"] = indra_db_rest_url\n",
    "\n",
    "\n",
    "history_file_path = \"/tmp/history\"\n",
    "\n",
    "\n",
    "def saveInHistory(terms):\n",
    "    \"\"\"\n",
    "    Save processed terms in file\n",
    "    Parameters\n",
    "    ----------\n",
    "    terms:  []\n",
    "        List of processed terms\n",
    "    \"\"\"\n",
    "    with open(history_file_path, \"a\") as out_file:\n",
    "        out_file.write('\\n'.join(terms)+'\\n')\n",
    "\n",
    "\n",
    "if __name__ == \"__main__\":\n",
    "    history = set()\n",
    "\n",
    "    if os.path.isfile(history_file_path):\n",
    "        with open(history_file_path, \"r\") as history_file:\n",
    "            for line in history_file:\n",
    "                history.add(line.strip())\n",
    "\n",
    "    terms = [[]]\n",
    "\n",
    "    terms_request = requests.get(reactome_failed_terms_link)\n",
    "    inp_terms = terms_request.text.splitlines()\n",
    "\n",
    "    if failed_query_threshold:\n",
    "        failed_query_threshold = failed_query_threshold + 1 # First line is column header\n",
    "\n",
    "    for term in inp_terms[1:failed_query_threshold]:\n",
    "        term_parts = term.split(\",\")\n",
    "        if len(term_parts) == 2 and int(term_parts[1]) >= failed_query_hits_threshold and term not in history:\n",
    "            terms[-1].append(term)\n",
    "            if len(terms[-1]) == 10:\n",
    "                terms.append([])\n",
    "\n",
    "    batch = GenericBatchNew()\n",
    "    \n",
    "    pmid_list_path = \"pmid_list.txt\"\n",
    "    eutils_output_path = \"eutils_output.tsv\"\n",
    "    mesh_output_path = \"mesh.txt\"\n",
    "    abstract_filepath = \"abstract.txt\" \n",
    "\n",
    "    for chunk in tqdm(terms, ascii=True):\n",
    "        getPMID(chunk, pmid_threshold,pmid_list_path)\n",
    "        getMeSH(mti['email_id'],mti['username'],mti['password'], batch, abstract_filepath = abstract_filepath)\n",
    "        getEUtilsInfo(pmid_list_path)\n",
    "\n",
    "        mergeOutputs(failed_query_output_file_path, eutils_output_path, mesh_output_path)\n",
    "        history.update(chunk)\n",
    "        saveInHistory(chunk)\n",
    "        os.system(\"rm \" + \" \".join([eutils_output_path,abstract_filepath,mesh_output_path,pmid_list_path]))"
   ]
  }
 ],
 "metadata": {
  "celltoolbar": "Tags",
  "colab": {
   "collapsed_sections": [
    "yq3CVqLlhxJD"
   ],
   "name": "Reactome Failed Query Analysis",
   "provenance": []
  },
  "kernelspec": {
   "display_name": "Python 3.6.9 64-bit",
   "language": "python",
   "name": "python36964bit99d5588f087245be84a1cb3fceb56c4d"
  },
  "language_info": {
   "codemirror_mode": {
    "name": "ipython",
    "version": 3
   },
   "file_extension": ".py",
   "mimetype": "text/x-python",
   "name": "python",
   "nbconvert_exporter": "python",
   "pygments_lexer": "ipython3",
   "version": "3.6.9-final"
  }
 },
 "nbformat": 4,
 "nbformat_minor": 1
}